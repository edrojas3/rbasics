{
  "nbformat": 4,
  "nbformat_minor": 0,
  "metadata": {
    "colab": {
      "provenance": [],
      "authorship_tag": "ABX9TyPZJEMIUoj57bLt4irR6JtM",
      "include_colab_link": true
    },
    "kernelspec": {
      "name": "ir",
      "display_name": "R"
    },
    "language_info": {
      "name": "R"
    }
  },
  "cells": [
    {
      "cell_type": "markdown",
      "metadata": {
        "id": "view-in-github",
        "colab_type": "text"
      },
      "source": [
        "<a href=\"https://colab.research.google.com/github/edrojas3/rbasics/blob/main/r_microscopia2025-1_dataframes-ggplot.ipynb\" target=\"_parent\"><img src=\"https://colab.research.google.com/assets/colab-badge.svg\" alt=\"Open In Colab\"/></a>"
      ]
    },
    {
      "cell_type": "code",
      "execution_count": null,
      "metadata": {
        "id": "6fVMJnl852wJ"
      },
      "outputs": [],
      "source": [
        "library(ggplot2)"
      ]
    },
    {
      "cell_type": "code",
      "source": [
        "daniel_file = 'daniel_music_features.csv'\n",
        "eduardo_file = 'eduardo_music_features.csv'\n",
        "\n",
        "daniel_data = read.csv(daniel_file)\n",
        "eduardo_data = read.csv(eduardo_file)\n",
        "\n",
        "head(eduardo_data)\n"
      ],
      "metadata": {
        "id": "xUPV6JBg6VpH",
        "colab": {
          "base_uri": "https://localhost:8080/",
          "height": 460
        },
        "outputId": "6f10a082-316a-47ae-acf5-6a35abaa172c"
      },
      "execution_count": null,
      "outputs": [
        {
          "output_type": "display_data",
          "data": {
            "text/html": [
              "<table class=\"dataframe\">\n",
              "<caption>A data.frame: 6 × 11</caption>\n",
              "<thead>\n",
              "\t<tr><th></th><th scope=col>X</th><th scope=col>track_name</th><th scope=col>artist</th><th scope=col>album</th><th scope=col>danceability</th><th scope=col>energy</th><th scope=col>valence</th><th scope=col>loudness</th><th scope=col>mode</th><th scope=col>duration_ms</th><th scope=col>uri</th></tr>\n",
              "\t<tr><th></th><th scope=col>&lt;int&gt;</th><th scope=col>&lt;chr&gt;</th><th scope=col>&lt;chr&gt;</th><th scope=col>&lt;chr&gt;</th><th scope=col>&lt;dbl&gt;</th><th scope=col>&lt;dbl&gt;</th><th scope=col>&lt;dbl&gt;</th><th scope=col>&lt;dbl&gt;</th><th scope=col>&lt;int&gt;</th><th scope=col>&lt;int&gt;</th><th scope=col>&lt;chr&gt;</th></tr>\n",
              "</thead>\n",
              "<tbody>\n",
              "\t<tr><th scope=row>1</th><td>0</td><td>La Forêt                        </td><td>Lescop            </td><td>Lescop                                                                  </td><td>0.862</td><td>0.465</td><td>0.7220</td><td> -5.733</td><td>1</td><td>283773</td><td>spotify:track:2JvYSUbSUqawKyfLSF25GJ</td></tr>\n",
              "\t<tr><th scope=row>2</th><td>1</td><td>Problem Number 6                </td><td>Bruno Pernadas    </td><td>Those Who Throw Objects at the Crocodiles Will Be Asked to Retrieve Them</td><td>0.673</td><td>0.880</td><td>0.7890</td><td> -9.808</td><td>1</td><td>262987</td><td>spotify:track:53b4ay3zz0DpRd3QVgzaqW</td></tr>\n",
              "\t<tr><th scope=row>3</th><td>2</td><td>Sole Obsession                  </td><td>Nation of Language</td><td>Sole Obsession                                                          </td><td>0.690</td><td>0.929</td><td>0.4450</td><td> -6.425</td><td>1</td><td>257923</td><td>spotify:track:7KyUA18iLNvY4rrIXtM9vN</td></tr>\n",
              "\t<tr><th scope=row>4</th><td>3</td><td>Everybody's Gotta Learn Sometime</td><td>Beck              </td><td>Everybody's Gotta Learn Sometime                                        </td><td>0.633</td><td>0.279</td><td>0.1360</td><td>-14.643</td><td>1</td><td>354066</td><td>spotify:track:4oYfMQ6NDGHq0GcbICqsDw</td></tr>\n",
              "\t<tr><th scope=row>5</th><td>4</td><td>Taq ou-Dub (feat. Nour Freteikh)</td><td>Dudu Tassa        </td><td>Jarak Qaribak                                                           </td><td>0.749</td><td>0.739</td><td>0.7780</td><td> -7.032</td><td>0</td><td>217933</td><td>spotify:track:3VMwlV1WCP3seMqWITjnjw</td></tr>\n",
              "\t<tr><th scope=row>6</th><td>5</td><td>Sail Away                       </td><td>The Rapture       </td><td>In the Grace of Your Love                                               </td><td>0.266</td><td>0.654</td><td>0.0447</td><td> -4.248</td><td>1</td><td>320720</td><td>spotify:track:0jYapCp7zdPzPN0uhW6j5h</td></tr>\n",
              "</tbody>\n",
              "</table>\n"
            ],
            "text/markdown": "\nA data.frame: 6 × 11\n\n| <!--/--> | X &lt;int&gt; | track_name &lt;chr&gt; | artist &lt;chr&gt; | album &lt;chr&gt; | danceability &lt;dbl&gt; | energy &lt;dbl&gt; | valence &lt;dbl&gt; | loudness &lt;dbl&gt; | mode &lt;int&gt; | duration_ms &lt;int&gt; | uri &lt;chr&gt; |\n|---|---|---|---|---|---|---|---|---|---|---|---|\n| 1 | 0 | La Forêt                         | Lescop             | Lescop                                                                   | 0.862 | 0.465 | 0.7220 |  -5.733 | 1 | 283773 | spotify:track:2JvYSUbSUqawKyfLSF25GJ |\n| 2 | 1 | Problem Number 6                 | Bruno Pernadas     | Those Who Throw Objects at the Crocodiles Will Be Asked to Retrieve Them | 0.673 | 0.880 | 0.7890 |  -9.808 | 1 | 262987 | spotify:track:53b4ay3zz0DpRd3QVgzaqW |\n| 3 | 2 | Sole Obsession                   | Nation of Language | Sole Obsession                                                           | 0.690 | 0.929 | 0.4450 |  -6.425 | 1 | 257923 | spotify:track:7KyUA18iLNvY4rrIXtM9vN |\n| 4 | 3 | Everybody's Gotta Learn Sometime | Beck               | Everybody's Gotta Learn Sometime                                         | 0.633 | 0.279 | 0.1360 | -14.643 | 1 | 354066 | spotify:track:4oYfMQ6NDGHq0GcbICqsDw |\n| 5 | 4 | Taq ou-Dub (feat. Nour Freteikh) | Dudu Tassa         | Jarak Qaribak                                                            | 0.749 | 0.739 | 0.7780 |  -7.032 | 0 | 217933 | spotify:track:3VMwlV1WCP3seMqWITjnjw |\n| 6 | 5 | Sail Away                        | The Rapture        | In the Grace of Your Love                                                | 0.266 | 0.654 | 0.0447 |  -4.248 | 1 | 320720 | spotify:track:0jYapCp7zdPzPN0uhW6j5h |\n\n",
            "text/latex": "A data.frame: 6 × 11\n\\begin{tabular}{r|lllllllllll}\n  & X & track\\_name & artist & album & danceability & energy & valence & loudness & mode & duration\\_ms & uri\\\\\n  & <int> & <chr> & <chr> & <chr> & <dbl> & <dbl> & <dbl> & <dbl> & <int> & <int> & <chr>\\\\\n\\hline\n\t1 & 0 & La Forêt                         & Lescop             & Lescop                                                                   & 0.862 & 0.465 & 0.7220 &  -5.733 & 1 & 283773 & spotify:track:2JvYSUbSUqawKyfLSF25GJ\\\\\n\t2 & 1 & Problem Number 6                 & Bruno Pernadas     & Those Who Throw Objects at the Crocodiles Will Be Asked to Retrieve Them & 0.673 & 0.880 & 0.7890 &  -9.808 & 1 & 262987 & spotify:track:53b4ay3zz0DpRd3QVgzaqW\\\\\n\t3 & 2 & Sole Obsession                   & Nation of Language & Sole Obsession                                                           & 0.690 & 0.929 & 0.4450 &  -6.425 & 1 & 257923 & spotify:track:7KyUA18iLNvY4rrIXtM9vN\\\\\n\t4 & 3 & Everybody's Gotta Learn Sometime & Beck               & Everybody's Gotta Learn Sometime                                         & 0.633 & 0.279 & 0.1360 & -14.643 & 1 & 354066 & spotify:track:4oYfMQ6NDGHq0GcbICqsDw\\\\\n\t5 & 4 & Taq ou-Dub (feat. Nour Freteikh) & Dudu Tassa         & Jarak Qaribak                                                            & 0.749 & 0.739 & 0.7780 &  -7.032 & 0 & 217933 & spotify:track:3VMwlV1WCP3seMqWITjnjw\\\\\n\t6 & 5 & Sail Away                        & The Rapture        & In the Grace of Your Love                                                & 0.266 & 0.654 & 0.0447 &  -4.248 & 1 & 320720 & spotify:track:0jYapCp7zdPzPN0uhW6j5h\\\\\n\\end{tabular}\n",
            "text/plain": [
              "  X track_name                       artist            \n",
              "1 0 La Forêt                         Lescop            \n",
              "2 1 Problem Number 6                 Bruno Pernadas    \n",
              "3 2 Sole Obsession                   Nation of Language\n",
              "4 3 Everybody's Gotta Learn Sometime Beck              \n",
              "5 4 Taq ou-Dub (feat. Nour Freteikh) Dudu Tassa        \n",
              "6 5 Sail Away                        The Rapture       \n",
              "  album                                                                   \n",
              "1 Lescop                                                                  \n",
              "2 Those Who Throw Objects at the Crocodiles Will Be Asked to Retrieve Them\n",
              "3 Sole Obsession                                                          \n",
              "4 Everybody's Gotta Learn Sometime                                        \n",
              "5 Jarak Qaribak                                                           \n",
              "6 In the Grace of Your Love                                               \n",
              "  danceability energy valence loudness mode duration_ms\n",
              "1 0.862        0.465  0.7220   -5.733  1    283773     \n",
              "2 0.673        0.880  0.7890   -9.808  1    262987     \n",
              "3 0.690        0.929  0.4450   -6.425  1    257923     \n",
              "4 0.633        0.279  0.1360  -14.643  1    354066     \n",
              "5 0.749        0.739  0.7780   -7.032  0    217933     \n",
              "6 0.266        0.654  0.0447   -4.248  1    320720     \n",
              "  uri                                 \n",
              "1 spotify:track:2JvYSUbSUqawKyfLSF25GJ\n",
              "2 spotify:track:53b4ay3zz0DpRd3QVgzaqW\n",
              "3 spotify:track:7KyUA18iLNvY4rrIXtM9vN\n",
              "4 spotify:track:4oYfMQ6NDGHq0GcbICqsDw\n",
              "5 spotify:track:3VMwlV1WCP3seMqWITjnjw\n",
              "6 spotify:track:0jYapCp7zdPzPN0uhW6j5h"
            ]
          },
          "metadata": {}
        }
      ]
    },
    {
      "cell_type": "code",
      "source": [],
      "metadata": {
        "id": "Gk6_IvLVmcmy"
      },
      "execution_count": null,
      "outputs": []
    },
    {
      "cell_type": "code",
      "source": [
        "eduardo_data$nombre='eduardo'\n",
        "daniel_data$nombre='daniel'\n",
        "\n",
        "columnas = c('track_name', 'artist', 'album', 'energy', 'danceability', 'valence', 'nombre')\n",
        "music_feats_df = rbind(eduardo_data[, columnas], daniel_data[, c(columnas)])"
      ],
      "metadata": {
        "id": "CCbayuNk00Kg",
        "colab": {
          "base_uri": "https://localhost:8080/",
          "height": 454
        },
        "outputId": "b420281e-0e6d-4d13-b23f-5c3ee27198e6"
      },
      "execution_count": null,
      "outputs": [
        {
          "output_type": "stream",
          "name": "stderr",
          "text": [
            "\u001b[1m\u001b[22m`stat_bin()` using `bins = 30`. Pick better value with `binwidth`.\n"
          ]
        },
        {
          "output_type": "display_data",
          "data": {
            "text/plain": [
              "plot without title"
            ],
            "image/png": "[encoded data removed]"
          },
          "metadata": {
            "image/png": {
              "width": 420,
              "height": 420
            }
          }
        }
      ]
    },
    {
      "cell_type": "code",
      "source": [
        "# prompt: usa ggplot para hacer un histograma y un density plot\n",
        "\n",
        "ggplot(music_feats_df, aes(x=energy, y=valence, color=nombre)) +\n",
        "  geom_point() +\n",
        "  scale_color_manual(values=c('red', 'blue'))\n",
        "\n"
      ],
      "metadata": {
        "colab": {
          "base_uri": "https://localhost:8080/",
          "height": 72
        },
        "id": "Ls50eA5Pm_He",
        "outputId": "3d89f68d-37f6-4590-e5b4-06c2295515c6"
      },
      "execution_count": 1,
      "outputs": [
        {
          "output_type": "error",
          "ename": "ERROR",
          "evalue": "Error in ggplot(music_feats_df, aes(x = energy, y = valence, color = nombre)): could not find function \"ggplot\"\n",
          "traceback": [
            "Error in ggplot(music_feats_df, aes(x = energy, y = valence, color = nombre)): could not find function \"ggplot\"\nTraceback:\n"
          ]
        }
      ]
    },
    {
      "cell_type": "code",
      "source": [
        "# prompt: prueba t de dos grupos\n",
        "mean(eduardo_data$valence)\n",
        "sd(eduardo_data$valence)"
      ],
      "metadata": {
        "colab": {
          "base_uri": "https://localhost:8080/",
          "height": 52
        },
        "id": "v5IdVukO5aBR",
        "outputId": "88aebe58-1f6f-433c-b5b3-4dbc369472cc"
      },
      "execution_count": null,
      "outputs": [
        {
          "output_type": "display_data",
          "data": {
            "text/html": [
              "0.495669018112488"
            ],
            "text/markdown": "0.495669018112488",
            "text/latex": "0.495669018112488",
            "text/plain": [
              "[1] 0.495669"
            ]
          },
          "metadata": {}
        },
        {
          "output_type": "display_data",
          "data": {
            "text/html": [
              "0.24827359850916"
            ],
            "text/markdown": "0.24827359850916",
            "text/latex": "0.24827359850916",
            "text/plain": [
              "[1] 0.2482736"
            ]
          },
          "metadata": {}
        }
      ]
    },
    {
      "cell_type": "code",
      "source": [
        "library(ggplot2)"
      ],
      "metadata": {
        "id": "5uewsG-o6fJX"
      },
      "execution_count": null,
      "outputs": []
    },
    {
      "cell_type": "code",
      "source": [
        "ggplot(data=eduardo_data, aes(x=valence)) +\n",
        "  geom_histogram(fill='red')"
      ],
      "metadata": {
        "colab": {
          "base_uri": "https://localhost:8080/",
          "height": 454
        },
        "id": "9oexJcc_6zm3",
        "outputId": "f387c460-2676-4092-c221-ce81ae39ab51"
      },
      "execution_count": null,
      "outputs": [
        {
          "output_type": "stream",
          "name": "stderr",
          "text": [
            "\u001b[1m\u001b[22m`stat_bin()` using `bins = 30`. Pick better value with `binwidth`.\n"
          ]
        },
        {
          "output_type": "display_data",
          "data": {
            "text/plain": [
              "plot without title"
            ],
            "image/png": "[encoded data removed]"
          },
          "metadata": {
            "image/png": {
              "width": 420,
              "height": 420
            }
          }
        }
      ]
    },
    {
      "cell_type": "code",
      "source": [
        "?geom_histogram"
      ],
      "metadata": {
        "id": "u7U1YZVF8Xtu"
      },
      "execution_count": null,
      "outputs": []
    }
  ]
}